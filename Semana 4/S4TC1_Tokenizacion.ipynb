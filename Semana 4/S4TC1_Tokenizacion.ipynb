{
  "cells": [
    {
      "cell_type": "markdown",
      "metadata": {
        "id": "vFAB643RRhb8"
      },
      "source": [
        "![image info](https://raw.githubusercontent.com/albahnsen/MIAD_ML_and_NLP/main/images/banner_1.png)"
      ]
    },
    {
      "cell_type": "markdown",
      "metadata": {
        "id": "UCRyOYVFRhb_"
      },
      "source": [
        "# Taller: Tokenización de textos  \n",
        "\n",
        "En este taller podrán poner en práctica sus conocimientos sobre preprocesamiento de texto (tokenización). El taller está constituido por 5 puntos, en los cuales deberan seguir las intrucciones de cada numeral para su desarrollo."
      ]
    },
    {
      "cell_type": "markdown",
      "metadata": {
        "id": "G_OwUezXRhcA"
      },
      "source": [
        "## Datos detección de toxicidad en comentarios\n",
        "\n",
        "En este taller se usará el conjunto de datos de detección de toxicidad en comentarios de la base de datos de Kaggle. Cada observación es un comentario que tiene como variable objetivo (target) la probabilidad de ser un comentario tóxico. El objetivo es predecir la toxicidad de cada comentario. Para más detalles pueden visitar el siguiente enlace: [datos](https://www.kaggle.com/c/jigsaw-unintended-bias-in-toxicity-classification/data)."
      ]
    },
    {
      "cell_type": "code",
      "execution_count": null,
      "metadata": {
        "id": "cwXQrZ4rRhcA",
        "jupyter": {
          "is_executing": true
        }
      },
      "outputs": [],
      "source": [
        "# SUGERIDO: Descomenta la siguiente linea de código si requieres instalar las libreías básicas utilizadas en este notebook\n",
        "# Si requieres incluir más librerías puedes agregarlas al archivo Semana 4\\requirements.txt\n",
        "#!pip install -r requirements.txt"
      ]
    },
    {
      "cell_type": "code",
      "execution_count": null,
      "metadata": {
        "ExecuteTime": {
          "end_time": "2025-04-27T15:29:45.377204Z",
          "start_time": "2025-04-27T15:29:45.358732Z"
        },
        "id": "mIlJVJeTRhcC"
      },
      "outputs": [],
      "source": [
        "import warnings\n",
        "warnings.filterwarnings('ignore')"
      ]
    },
    {
      "cell_type": "code",
      "execution_count": null,
      "metadata": {
        "ExecuteTime": {
          "end_time": "2025-04-27T15:30:39.866926Z",
          "start_time": "2025-04-27T15:30:17.016580Z"
        },
        "id": "2cGODwlJRhcD"
      },
      "outputs": [],
      "source": [
        "# Importación librerías\n",
        "import pandas as pd\n",
        "import numpy as n\n",
        "\n",
        "import scipy as sp\n",
        "from sklearn.model_selection import train_test_split, cross_val_score\n",
        "from sklearn.linear_model import Ridge\n",
        "from sklearn.feature_extraction.text import CountVectorizer, TfidfVectorizer\n",
        "from sklearn.metrics import mean_squared_error\n",
        "from sklearn import metrics\n",
        "%matplotlib inline"
      ]
    },
    {
      "cell_type": "code",
      "execution_count": null,
      "metadata": {
        "ExecuteTime": {
          "end_time": "2025-04-27T15:31:18.296353Z",
          "start_time": "2025-04-27T15:30:50.778429Z"
        },
        "colab": {
          "base_uri": "https://localhost:8080/",
          "height": 206
        },
        "id": "r432wFsyRhcD",
        "outputId": "803d8116-4bd1-4210-b69f-6ce7af22b82e"
      },
      "outputs": [
        {
          "data": {
            "text/html": [
              "<div>\n",
              "<style scoped>\n",
              "    .dataframe tbody tr th:only-of-type {\n",
              "        vertical-align: middle;\n",
              "    }\n",
              "\n",
              "    .dataframe tbody tr th {\n",
              "        vertical-align: top;\n",
              "    }\n",
              "\n",
              "    .dataframe thead th {\n",
              "        text-align: right;\n",
              "    }\n",
              "</style>\n",
              "<table border=\"1\" class=\"dataframe\">\n",
              "  <thead>\n",
              "    <tr style=\"text-align: right;\">\n",
              "      <th></th>\n",
              "      <th>id</th>\n",
              "      <th>comment_text</th>\n",
              "      <th>target</th>\n",
              "    </tr>\n",
              "  </thead>\n",
              "  <tbody>\n",
              "    <tr>\n",
              "      <th>0</th>\n",
              "      <td>6101457</td>\n",
              "      <td>What are you talking about? What group do Pete...</td>\n",
              "      <td>0.0</td>\n",
              "    </tr>\n",
              "    <tr>\n",
              "      <th>1</th>\n",
              "      <td>5342103</td>\n",
              "      <td>NO!, Let him, we need a Conservative government.</td>\n",
              "      <td>0.0</td>\n",
              "    </tr>\n",
              "    <tr>\n",
              "      <th>2</th>\n",
              "      <td>743361</td>\n",
              "      <td>Perhaps he took the \"power out of the Cardinal...</td>\n",
              "      <td>0.2</td>\n",
              "    </tr>\n",
              "    <tr>\n",
              "      <th>3</th>\n",
              "      <td>551008</td>\n",
              "      <td>As always, yours is dripping with sarcasm, whi...</td>\n",
              "      <td>0.0</td>\n",
              "    </tr>\n",
              "    <tr>\n",
              "      <th>4</th>\n",
              "      <td>865998</td>\n",
              "      <td>The dirty little secret is that the price rang...</td>\n",
              "      <td>0.3</td>\n",
              "    </tr>\n",
              "  </tbody>\n",
              "</table>\n",
              "</div>"
            ],
            "text/plain": [
              "        id                                       comment_text  target\n",
              "0  6101457  What are you talking about? What group do Pete...     0.0\n",
              "1  5342103   NO!, Let him, we need a Conservative government.     0.0\n",
              "2   743361  Perhaps he took the \"power out of the Cardinal...     0.2\n",
              "3   551008  As always, yours is dripping with sarcasm, whi...     0.0\n",
              "4   865998  The dirty little secret is that the price rang...     0.3"
            ]
          },
          "execution_count": 3,
          "metadata": {},
          "output_type": "execute_result"
        }
      ],
      "source": [
        "# Carga de datos de archivos .csv\n",
        "df = pd.read_csv('https://raw.githubusercontent.com/davidzarruk/MIAD_ML_NLP_2025/main/datasets/Toxicity.zip')\n",
        "df = df[['id','comment_text', 'target']]\n",
        "df.head()"
      ]
    },
    {
      "cell_type": "code",
      "execution_count": null,
      "metadata": {
        "ExecuteTime": {
          "end_time": "2025-04-27T12:34:56.963702Z",
          "start_time": "2025-04-27T12:34:56.960864Z"
        },
        "colab": {
          "base_uri": "https://localhost:8080/"
        },
        "id": "shdto2g5RhcE",
        "outputId": "403de68b-702f-400f-98b0-78bb46a2c299"
      },
      "outputs": [
        {
          "data": {
            "text/plain": [
              "(541462, 3)"
            ]
          },
          "execution_count": 4,
          "metadata": {},
          "output_type": "execute_result"
        }
      ],
      "source": [
        "df.shape"
      ]
    },
    {
      "cell_type": "code",
      "execution_count": null,
      "metadata": {
        "ExecuteTime": {
          "end_time": "2025-04-27T15:33:17.475912Z",
          "start_time": "2025-04-27T15:33:08.693557Z"
        },
        "colab": {
          "base_uri": "https://localhost:8080/",
          "height": 447
        },
        "id": "tSXBIPbFRhcE",
        "outputId": "f36e164b-8351-49c1-ff3a-633a2c068bbf"
      },
      "outputs": [
        {
          "data": {
            "text/plain": [
              "<Axes: >"
            ]
          },
          "execution_count": 5,
          "metadata": {},
          "output_type": "execute_result"
        }
      ],
      "source": [
        "# Impresión histograma de variable de interés (y)\n",
        "df.target.hist()"
      ]
    },
    {
      "cell_type": "code",
      "execution_count": null,
      "metadata": {
        "ExecuteTime": {
          "end_time": "2025-04-27T15:35:07.579719Z",
          "start_time": "2025-04-27T15:35:07.472488Z"
        },
        "colab": {
          "base_uri": "https://localhost:8080/",
          "height": 335
        },
        "id": "c0lzplVeRhcF",
        "outputId": "e21acf53-8032-4d8a-b8a6-c6b4f1df42a1"
      },
      "outputs": [
        {
          "data": {
            "text/plain": [
              "count    541462.000000\n",
              "mean          0.102991\n",
              "std           0.196979\n",
              "min           0.000000\n",
              "25%           0.000000\n",
              "50%           0.000000\n",
              "75%           0.166667\n",
              "max           1.000000\n",
              "Name: target, dtype: float64"
            ]
          },
          "execution_count": 6,
          "metadata": {},
          "output_type": "execute_result"
        }
      ],
      "source": [
        "# Separación de variable de interés (y)\n",
        "y = df.target\n",
        "y.describe()"
      ]
    },
    {
      "cell_type": "code",
      "execution_count": null,
      "metadata": {
        "ExecuteTime": {
          "end_time": "2025-04-27T15:35:14.747823Z",
          "start_time": "2025-04-27T15:35:14.743442Z"
        },
        "id": "qDFhwr-dRhcF"
      },
      "outputs": [],
      "source": [
        "# Separación de variables predictoras (X), solo se considera el texto de la noticia\n",
        "X = df.comment_text"
      ]
    },
    {
      "cell_type": "code",
      "execution_count": null,
      "metadata": {
        "ExecuteTime": {
          "end_time": "2025-04-27T15:37:54.752843Z",
          "start_time": "2025-04-27T15:37:54.643890Z"
        },
        "id": "U0FGrxx6RhcF"
      },
      "outputs": [],
      "source": [
        "# Separación de datos en set de entrenamiento y test\n",
        "X_train, X_test, y_train, y_test = train_test_split(X, y, test_size=0.33, random_state=42)"
      ]
    },
    {
      "cell_type": "markdown",
      "metadata": {
        "id": "_58UDEzoRhcF"
      },
      "source": [
        "# Punto 1 - Tokenización con CountVectorizer\n",
        "\n",
        "En la celda 1 creen y entrenen el modelo de regresión de su preferencia, para que prediga la probabilidad de que un comentario sea tóxico, usando los set de entrenamiento y test definidos anteriormente. Usen la función **CountVectorizer** para preprocesar los comentarios y presenten el desempeño del modelo con la métrica del MSE.\n",
        "\n",
        "Recuerden que el preprocesamiento que se haga sobre los datos de entrenamiento  (*.fit_transform()*) deben ser aplicado al set de test (*.transform()*)."
      ]
    },
    {
      "cell_type": "markdown",
      "metadata": {
        "id": "6KKPPviqT39k"
      },
      "source": [
        "**Vectorizador de texto**"
      ]
    },
    {
      "cell_type": "markdown",
      "metadata": {
        "id": "lTPRSwkdWg1W"
      },
      "source": [
        "**Proceso**:  \n",
        "1.   Se usa el CountVectorizer para transformar los comentarios a una matriz númerica basada en el conteo de palabras.\n",
        "2.  Se realiza fit_transform sobre el set de entrenamiento para ajustar y transformar, y transform sobre el set de prueba (de acuerdo a lo indicado)"
      ]
    },
    {
      "cell_type": "code",
      "execution_count": null,
      "metadata": {
        "ExecuteTime": {
          "end_time": "2025-04-27T15:37:58.556926Z",
          "start_time": "2025-04-27T15:37:58.550600Z"
        },
        "id": "RnTLTGcuRhcG"
      },
      "outputs": [],
      "source": [
        "vect_comments = CountVectorizer()"
      ]
    },
    {
      "cell_type": "code",
      "execution_count": null,
      "metadata": {
        "ExecuteTime": {
          "end_time": "2025-04-27T15:38:14.951087Z",
          "start_time": "2025-04-27T15:38:00.465437Z"
        },
        "id": "c8y9ua2WXSLr"
      },
      "outputs": [],
      "source": [
        "# Datos de entrenamiento (ajuste y transformación)\n",
        "X_train_vect = vect_comments.fit_transform(X_train)\n",
        "\n",
        "# Datos de prueba (solo transformación)\n",
        "X_test_vect = vect_comments.transform(X_test)"
      ]
    },
    {
      "cell_type": "markdown",
      "metadata": {
        "id": "Tz4T9PBaYB9O"
      },
      "source": [
        "**Entrenamiento del modelo**"
      ]
    },
    {
      "cell_type": "markdown",
      "metadata": {
        "id": "fAXP8rRnY5eT"
      },
      "source": [
        "**Proceso**:  \n",
        "Se define un modelo de regresión Ridge para predecir la probabilidad de que un comentario sea tóxico.  \n",
        "\n"
      ]
    },
    {
      "cell_type": "code",
      "execution_count": null,
      "metadata": {
        "ExecuteTime": {
          "end_time": "2025-04-27T15:39:22.226950Z",
          "start_time": "2025-04-27T15:38:16.899044Z"
        },
        "colab": {
          "base_uri": "https://localhost:8080/",
          "height": 81
        },
        "id": "cstV8Ea9X04L",
        "outputId": "11ef7d5f-5468-400b-847a-5f13e4978db2"
      },
      "outputs": [
        {
          "data": {
            "text/html": [
              "<style>#sk-container-id-3 {\n",
              "  /* Definition of color scheme common for light and dark mode */\n",
              "  --sklearn-color-text: #000;\n",
              "  --sklearn-color-text-muted: #666;\n",
              "  --sklearn-color-line: gray;\n",
              "  /* Definition of color scheme for unfitted estimators */\n",
              "  --sklearn-color-unfitted-level-0: #fff5e6;\n",
              "  --sklearn-color-unfitted-level-1: #f6e4d2;\n",
              "  --sklearn-color-unfitted-level-2: #ffe0b3;\n",
              "  --sklearn-color-unfitted-level-3: chocolate;\n",
              "  /* Definition of color scheme for fitted estimators */\n",
              "  --sklearn-color-fitted-level-0: #f0f8ff;\n",
              "  --sklearn-color-fitted-level-1: #d4ebff;\n",
              "  --sklearn-color-fitted-level-2: #b3dbfd;\n",
              "  --sklearn-color-fitted-level-3: cornflowerblue;\n",
              "\n",
              "  /* Specific color for light theme */\n",
              "  --sklearn-color-text-on-default-background: var(--sg-text-color, var(--theme-code-foreground, var(--jp-content-font-color1, black)));\n",
              "  --sklearn-color-background: var(--sg-background-color, var(--theme-background, var(--jp-layout-color0, white)));\n",
              "  --sklearn-color-border-box: var(--sg-text-color, var(--theme-code-foreground, var(--jp-content-font-color1, black)));\n",
              "  --sklearn-color-icon: #696969;\n",
              "\n",
              "  @media (prefers-color-scheme: dark) {\n",
              "    /* Redefinition of color scheme for dark theme */\n",
              "    --sklearn-color-text-on-default-background: var(--sg-text-color, var(--theme-code-foreground, var(--jp-content-font-color1, white)));\n",
              "    --sklearn-color-background: var(--sg-background-color, var(--theme-background, var(--jp-layout-color0, #111)));\n",
              "    --sklearn-color-border-box: var(--sg-text-color, var(--theme-code-foreground, var(--jp-content-font-color1, white)));\n",
              "    --sklearn-color-icon: #878787;\n",
              "  }\n",
              "}\n",
              "\n",
              "#sk-container-id-3 {\n",
              "  color: var(--sklearn-color-text);\n",
              "}\n",
              "\n",
              "#sk-container-id-3 pre {\n",
              "  padding: 0;\n",
              "}\n",
              "\n",
              "#sk-container-id-3 input.sk-hidden--visually {\n",
              "  border: 0;\n",
              "  clip: rect(1px 1px 1px 1px);\n",
              "  clip: rect(1px, 1px, 1px, 1px);\n",
              "  height: 1px;\n",
              "  margin: -1px;\n",
              "  overflow: hidden;\n",
              "  padding: 0;\n",
              "  position: absolute;\n",
              "  width: 1px;\n",
              "}\n",
              "\n",
              "#sk-container-id-3 div.sk-dashed-wrapped {\n",
              "  border: 1px dashed var(--sklearn-color-line);\n",
              "  margin: 0 0.4em 0.5em 0.4em;\n",
              "  box-sizing: border-box;\n",
              "  padding-bottom: 0.4em;\n",
              "  background-color: var(--sklearn-color-background);\n",
              "}\n",
              "\n",
              "#sk-container-id-3 div.sk-container {\n",
              "  /* jupyter's `normalize.less` sets `[hidden] { display: none; }`\n",
              "     but bootstrap.min.css set `[hidden] { display: none !important; }`\n",
              "     so we also need the `!important` here to be able to override the\n",
              "     default hidden behavior on the sphinx rendered scikit-learn.org.\n",
              "     See: https://github.com/scikit-learn/scikit-learn/issues/21755 */\n",
              "  display: inline-block !important;\n",
              "  position: relative;\n",
              "}\n",
              "\n",
              "#sk-container-id-3 div.sk-text-repr-fallback {\n",
              "  display: none;\n",
              "}\n",
              "\n",
              "div.sk-parallel-item,\n",
              "div.sk-serial,\n",
              "div.sk-item {\n",
              "  /* draw centered vertical line to link estimators */\n",
              "  background-image: linear-gradient(var(--sklearn-color-text-on-default-background), var(--sklearn-color-text-on-default-background));\n",
              "  background-size: 2px 100%;\n",
              "  background-repeat: no-repeat;\n",
              "  background-position: center center;\n",
              "}\n",
              "\n",
              "/* Parallel-specific style estimator block */\n",
              "\n",
              "#sk-container-id-3 div.sk-parallel-item::after {\n",
              "  content: \"\";\n",
              "  width: 100%;\n",
              "  border-bottom: 2px solid var(--sklearn-color-text-on-default-background);\n",
              "  flex-grow: 1;\n",
              "}\n",
              "\n",
              "#sk-container-id-3 div.sk-parallel {\n",
              "  display: flex;\n",
              "  align-items: stretch;\n",
              "  justify-content: center;\n",
              "  background-color: var(--sklearn-color-background);\n",
              "  position: relative;\n",
              "}\n",
              "\n",
              "#sk-container-id-3 div.sk-parallel-item {\n",
              "  display: flex;\n",
              "  flex-direction: column;\n",
              "}\n",
              "\n",
              "#sk-container-id-3 div.sk-parallel-item:first-child::after {\n",
              "  align-self: flex-end;\n",
              "  width: 50%;\n",
              "}\n",
              "\n",
              "#sk-container-id-3 div.sk-parallel-item:last-child::after {\n",
              "  align-self: flex-start;\n",
              "  width: 50%;\n",
              "}\n",
              "\n",
              "#sk-container-id-3 div.sk-parallel-item:only-child::after {\n",
              "  width: 0;\n",
              "}\n",
              "\n",
              "/* Serial-specific style estimator block */\n",
              "\n",
              "#sk-container-id-3 div.sk-serial {\n",
              "  display: flex;\n",
              "  flex-direction: column;\n",
              "  align-items: center;\n",
              "  background-color: var(--sklearn-color-background);\n",
              "  padding-right: 1em;\n",
              "  padding-left: 1em;\n",
              "}\n",
              "\n",
              "\n",
              "/* Toggleable style: style used for estimator/Pipeline/ColumnTransformer box that is\n",
              "clickable and can be expanded/collapsed.\n",
              "- Pipeline and ColumnTransformer use this feature and define the default style\n",
              "- Estimators will overwrite some part of the style using the `sk-estimator` class\n",
              "*/\n",
              "\n",
              "/* Pipeline and ColumnTransformer style (default) */\n",
              "\n",
              "#sk-container-id-3 div.sk-toggleable {\n",
              "  /* Default theme specific background. It is overwritten whether we have a\n",
              "  specific estimator or a Pipeline/ColumnTransformer */\n",
              "  background-color: var(--sklearn-color-background);\n",
              "}\n",
              "\n",
              "/* Toggleable label */\n",
              "#sk-container-id-3 label.sk-toggleable__label {\n",
              "  cursor: pointer;\n",
              "  display: flex;\n",
              "  width: 100%;\n",
              "  margin-bottom: 0;\n",
              "  padding: 0.5em;\n",
              "  box-sizing: border-box;\n",
              "  text-align: center;\n",
              "  align-items: start;\n",
              "  justify-content: space-between;\n",
              "  gap: 0.5em;\n",
              "}\n",
              "\n",
              "#sk-container-id-3 label.sk-toggleable__label .caption {\n",
              "  font-size: 0.6rem;\n",
              "  font-weight: lighter;\n",
              "  color: var(--sklearn-color-text-muted);\n",
              "}\n",
              "\n",
              "#sk-container-id-3 label.sk-toggleable__label-arrow:before {\n",
              "  /* Arrow on the left of the label */\n",
              "  content: \"▸\";\n",
              "  float: left;\n",
              "  margin-right: 0.25em;\n",
              "  color: var(--sklearn-color-icon);\n",
              "}\n",
              "\n",
              "#sk-container-id-3 label.sk-toggleable__label-arrow:hover:before {\n",
              "  color: var(--sklearn-color-text);\n",
              "}\n",
              "\n",
              "/* Toggleable content - dropdown */\n",
              "\n",
              "#sk-container-id-3 div.sk-toggleable__content {\n",
              "  max-height: 0;\n",
              "  max-width: 0;\n",
              "  overflow: hidden;\n",
              "  text-align: left;\n",
              "  /* unfitted */\n",
              "  background-color: var(--sklearn-color-unfitted-level-0);\n",
              "}\n",
              "\n",
              "#sk-container-id-3 div.sk-toggleable__content.fitted {\n",
              "  /* fitted */\n",
              "  background-color: var(--sklearn-color-fitted-level-0);\n",
              "}\n",
              "\n",
              "#sk-container-id-3 div.sk-toggleable__content pre {\n",
              "  margin: 0.2em;\n",
              "  border-radius: 0.25em;\n",
              "  color: var(--sklearn-color-text);\n",
              "  /* unfitted */\n",
              "  background-color: var(--sklearn-color-unfitted-level-0);\n",
              "}\n",
              "\n",
              "#sk-container-id-3 div.sk-toggleable__content.fitted pre {\n",
              "  /* unfitted */\n",
              "  background-color: var(--sklearn-color-fitted-level-0);\n",
              "}\n",
              "\n",
              "#sk-container-id-3 input.sk-toggleable__control:checked~div.sk-toggleable__content {\n",
              "  /* Expand drop-down */\n",
              "  max-height: 200px;\n",
              "  max-width: 100%;\n",
              "  overflow: auto;\n",
              "}\n",
              "\n",
              "#sk-container-id-3 input.sk-toggleable__control:checked~label.sk-toggleable__label-arrow:before {\n",
              "  content: \"▾\";\n",
              "}\n",
              "\n",
              "/* Pipeline/ColumnTransformer-specific style */\n",
              "\n",
              "#sk-container-id-3 div.sk-label input.sk-toggleable__control:checked~label.sk-toggleable__label {\n",
              "  color: var(--sklearn-color-text);\n",
              "  background-color: var(--sklearn-color-unfitted-level-2);\n",
              "}\n",
              "\n",
              "#sk-container-id-3 div.sk-label.fitted input.sk-toggleable__control:checked~label.sk-toggleable__label {\n",
              "  background-color: var(--sklearn-color-fitted-level-2);\n",
              "}\n",
              "\n",
              "/* Estimator-specific style */\n",
              "\n",
              "/* Colorize estimator box */\n",
              "#sk-container-id-3 div.sk-estimator input.sk-toggleable__control:checked~label.sk-toggleable__label {\n",
              "  /* unfitted */\n",
              "  background-color: var(--sklearn-color-unfitted-level-2);\n",
              "}\n",
              "\n",
              "#sk-container-id-3 div.sk-estimator.fitted input.sk-toggleable__control:checked~label.sk-toggleable__label {\n",
              "  /* fitted */\n",
              "  background-color: var(--sklearn-color-fitted-level-2);\n",
              "}\n",
              "\n",
              "#sk-container-id-3 div.sk-label label.sk-toggleable__label,\n",
              "#sk-container-id-3 div.sk-label label {\n",
              "  /* The background is the default theme color */\n",
              "  color: var(--sklearn-color-text-on-default-background);\n",
              "}\n",
              "\n",
              "/* On hover, darken the color of the background */\n",
              "#sk-container-id-3 div.sk-label:hover label.sk-toggleable__label {\n",
              "  color: var(--sklearn-color-text);\n",
              "  background-color: var(--sklearn-color-unfitted-level-2);\n",
              "}\n",
              "\n",
              "/* Label box, darken color on hover, fitted */\n",
              "#sk-container-id-3 div.sk-label.fitted:hover label.sk-toggleable__label.fitted {\n",
              "  color: var(--sklearn-color-text);\n",
              "  background-color: var(--sklearn-color-fitted-level-2);\n",
              "}\n",
              "\n",
              "/* Estimator label */\n",
              "\n",
              "#sk-container-id-3 div.sk-label label {\n",
              "  font-family: monospace;\n",
              "  font-weight: bold;\n",
              "  display: inline-block;\n",
              "  line-height: 1.2em;\n",
              "}\n",
              "\n",
              "#sk-container-id-3 div.sk-label-container {\n",
              "  text-align: center;\n",
              "}\n",
              "\n",
              "/* Estimator-specific */\n",
              "#sk-container-id-3 div.sk-estimator {\n",
              "  font-family: monospace;\n",
              "  border: 1px dotted var(--sklearn-color-border-box);\n",
              "  border-radius: 0.25em;\n",
              "  box-sizing: border-box;\n",
              "  margin-bottom: 0.5em;\n",
              "  /* unfitted */\n",
              "  background-color: var(--sklearn-color-unfitted-level-0);\n",
              "}\n",
              "\n",
              "#sk-container-id-3 div.sk-estimator.fitted {\n",
              "  /* fitted */\n",
              "  background-color: var(--sklearn-color-fitted-level-0);\n",
              "}\n",
              "\n",
              "/* on hover */\n",
              "#sk-container-id-3 div.sk-estimator:hover {\n",
              "  /* unfitted */\n",
              "  background-color: var(--sklearn-color-unfitted-level-2);\n",
              "}\n",
              "\n",
              "#sk-container-id-3 div.sk-estimator.fitted:hover {\n",
              "  /* fitted */\n",
              "  background-color: var(--sklearn-color-fitted-level-2);\n",
              "}\n",
              "\n",
              "/* Specification for estimator info (e.g. \"i\" and \"?\") */\n",
              "\n",
              "/* Common style for \"i\" and \"?\" */\n",
              "\n",
              ".sk-estimator-doc-link,\n",
              "a:link.sk-estimator-doc-link,\n",
              "a:visited.sk-estimator-doc-link {\n",
              "  float: right;\n",
              "  font-size: smaller;\n",
              "  line-height: 1em;\n",
              "  font-family: monospace;\n",
              "  background-color: var(--sklearn-color-background);\n",
              "  border-radius: 1em;\n",
              "  height: 1em;\n",
              "  width: 1em;\n",
              "  text-decoration: none !important;\n",
              "  margin-left: 0.5em;\n",
              "  text-align: center;\n",
              "  /* unfitted */\n",
              "  border: var(--sklearn-color-unfitted-level-1) 1pt solid;\n",
              "  color: var(--sklearn-color-unfitted-level-1);\n",
              "}\n",
              "\n",
              ".sk-estimator-doc-link.fitted,\n",
              "a:link.sk-estimator-doc-link.fitted,\n",
              "a:visited.sk-estimator-doc-link.fitted {\n",
              "  /* fitted */\n",
              "  border: var(--sklearn-color-fitted-level-1) 1pt solid;\n",
              "  color: var(--sklearn-color-fitted-level-1);\n",
              "}\n",
              "\n",
              "/* On hover */\n",
              "div.sk-estimator:hover .sk-estimator-doc-link:hover,\n",
              ".sk-estimator-doc-link:hover,\n",
              "div.sk-label-container:hover .sk-estimator-doc-link:hover,\n",
              ".sk-estimator-doc-link:hover {\n",
              "  /* unfitted */\n",
              "  background-color: var(--sklearn-color-unfitted-level-3);\n",
              "  color: var(--sklearn-color-background);\n",
              "  text-decoration: none;\n",
              "}\n",
              "\n",
              "div.sk-estimator.fitted:hover .sk-estimator-doc-link.fitted:hover,\n",
              ".sk-estimator-doc-link.fitted:hover,\n",
              "div.sk-label-container:hover .sk-estimator-doc-link.fitted:hover,\n",
              ".sk-estimator-doc-link.fitted:hover {\n",
              "  /* fitted */\n",
              "  background-color: var(--sklearn-color-fitted-level-3);\n",
              "  color: var(--sklearn-color-background);\n",
              "  text-decoration: none;\n",
              "}\n",
              "\n",
              "/* Span, style for the box shown on hovering the info icon */\n",
              ".sk-estimator-doc-link span {\n",
              "  display: none;\n",
              "  z-index: 9999;\n",
              "  position: relative;\n",
              "  font-weight: normal;\n",
              "  right: .2ex;\n",
              "  padding: .5ex;\n",
              "  margin: .5ex;\n",
              "  width: min-content;\n",
              "  min-width: 20ex;\n",
              "  max-width: 50ex;\n",
              "  color: var(--sklearn-color-text);\n",
              "  box-shadow: 2pt 2pt 4pt #999;\n",
              "  /* unfitted */\n",
              "  background: var(--sklearn-color-unfitted-level-0);\n",
              "  border: .5pt solid var(--sklearn-color-unfitted-level-3);\n",
              "}\n",
              "\n",
              ".sk-estimator-doc-link.fitted span {\n",
              "  /* fitted */\n",
              "  background: var(--sklearn-color-fitted-level-0);\n",
              "  border: var(--sklearn-color-fitted-level-3);\n",
              "}\n",
              "\n",
              ".sk-estimator-doc-link:hover span {\n",
              "  display: block;\n",
              "}\n",
              "\n",
              "/* \"?\"-specific style due to the `<a>` HTML tag */\n",
              "\n",
              "#sk-container-id-3 a.estimator_doc_link {\n",
              "  float: right;\n",
              "  font-size: 1rem;\n",
              "  line-height: 1em;\n",
              "  font-family: monospace;\n",
              "  background-color: var(--sklearn-color-background);\n",
              "  border-radius: 1rem;\n",
              "  height: 1rem;\n",
              "  width: 1rem;\n",
              "  text-decoration: none;\n",
              "  /* unfitted */\n",
              "  color: var(--sklearn-color-unfitted-level-1);\n",
              "  border: var(--sklearn-color-unfitted-level-1) 1pt solid;\n",
              "}\n",
              "\n",
              "#sk-container-id-3 a.estimator_doc_link.fitted {\n",
              "  /* fitted */\n",
              "  border: var(--sklearn-color-fitted-level-1) 1pt solid;\n",
              "  color: var(--sklearn-color-fitted-level-1);\n",
              "}\n",
              "\n",
              "/* On hover */\n",
              "#sk-container-id-3 a.estimator_doc_link:hover {\n",
              "  /* unfitted */\n",
              "  background-color: var(--sklearn-color-unfitted-level-3);\n",
              "  color: var(--sklearn-color-background);\n",
              "  text-decoration: none;\n",
              "}\n",
              "\n",
              "#sk-container-id-3 a.estimator_doc_link.fitted:hover {\n",
              "  /* fitted */\n",
              "  background-color: var(--sklearn-color-fitted-level-3);\n",
              "}\n",
              "</style><div id=\"sk-container-id-3\" class=\"sk-top-container\"><div class=\"sk-text-repr-fallback\"><pre>Ridge(solver=&#x27;sag&#x27;)</pre><b>In a Jupyter environment, please rerun this cell to show the HTML representation or trust the notebook. <br />On GitHub, the HTML representation is unable to render, please try loading this page with nbviewer.org.</b></div><div class=\"sk-container\" hidden><div class=\"sk-item\"><div class=\"sk-estimator fitted sk-toggleable\"><input class=\"sk-toggleable__control sk-hidden--visually\" id=\"sk-estimator-id-3\" type=\"checkbox\" checked><label for=\"sk-estimator-id-3\" class=\"sk-toggleable__label fitted sk-toggleable__label-arrow\"><div><div>Ridge</div></div><div><a class=\"sk-estimator-doc-link fitted\" rel=\"noreferrer\" target=\"_blank\" href=\"https://scikit-learn.org/1.6/modules/generated/sklearn.linear_model.Ridge.html\">?<span>Documentation for Ridge</span></a><span class=\"sk-estimator-doc-link fitted\">i<span>Fitted</span></span></div></label><div class=\"sk-toggleable__content fitted\"><pre>Ridge(solver=&#x27;sag&#x27;)</pre></div> </div></div></div></div>"
            ],
            "text/plain": [
              "Ridge(solver='sag')"
            ]
          },
          "execution_count": 28,
          "metadata": {},
          "output_type": "execute_result"
        }
      ],
      "source": [
        "# Modelo Ridge\n",
        "modelo = Ridge(solver='sag')\n",
        "\n",
        "# Datos de entrenamiento\n",
        "modelo.fit(X_train_vect, y_train)"
      ]
    },
    {
      "cell_type": "markdown",
      "metadata": {
        "id": "KXUfPYpCas5-"
      },
      "source": [
        "**Evaluación del modelo**"
      ]
    },
    {
      "cell_type": "markdown",
      "metadata": {
        "id": "ENHpq-LYazD0"
      },
      "source": [
        "**Proceso**:  \n",
        "1. Se usa el conjunto de prueba X_test_vect de acuerdo a el modelo entrenado.  \n",
        "2. Se calcula el (MSE) para evaluar el desempeño del modelo."
      ]
    },
    {
      "cell_type": "code",
      "execution_count": null,
      "metadata": {
        "ExecuteTime": {
          "end_time": "2025-04-27T15:39:31.569982Z",
          "start_time": "2025-04-27T15:39:31.515198Z"
        },
        "colab": {
          "base_uri": "https://localhost:8080/"
        },
        "id": "5iYnWS-jbgDG",
        "outputId": "a68bb95b-ff7d-40ae-d5ef-55a66569ab9a"
      },
      "outputs": [
        {
          "name": "stdout",
          "output_type": "stream",
          "text": [
            "MSE: 0.0261\n"
          ]
        }
      ],
      "source": [
        "# Datos de prueba\n",
        "y_pred = modelo.predict(X_test_vect)\n",
        "\n",
        "# Cálculo del MSE\n",
        "mse = mean_squared_error(y_test, y_pred)\n",
        "\n",
        "# Resultado\n",
        "print(f\"MSE: {mse:.4f}\")"
      ]
    },
    {
      "cell_type": "markdown",
      "metadata": {
        "id": "jWntGr4xsAk2"
      },
      "source": [
        "**Conclusión**\n",
        "\n",
        "Se obtuvo un resultado del MSE del 0.0261 lo que indica que el modelo tienen un buen desempelo y logra capturar las características del texto sobre el conjunto de prueba."
      ]
    },
    {
      "cell_type": "markdown",
      "metadata": {
        "id": "6k2GVRcvRhcG"
      },
      "source": [
        "# Punto 2 - Tokenización con CountVectorizer y trigramas\n",
        "\n",
        "En la celda 2 creen y entrenen el mismo modelo de regresión del punto anterior (es decir si usaron un RandomForestRegresor usen nuevamente ese regresor), para que prediga la probabilidad de que un comentario sea tóxico, usando los set de entrenamiento y test definidos anteriormente. Usen la función CountVectorizer **considerando trigramas** para preprocesar los comentarios y presenten el desempeño del modelo con la métrica del MSE.\n",
        "\n",
        "Recuerden que el preprocesamiento que se haga sobre los datos de entrenamiento  (*.fit_transform()*) deben ser aplicado al set de test (*.transform()*)."
      ]
    },
    {
      "cell_type": "markdown",
      "metadata": {
        "id": "CpTE9Xwh1GUX"
      },
      "source": [
        "**CountVectorizer y trigramas**"
      ]
    },
    {
      "cell_type": "markdown",
      "metadata": {
        "id": "ZynJcA-A1JmX"
      },
      "source": [
        "**Proceso**:  \n",
        "1. Se utiliza CountVectorizer con unigramas, bigramas y trigramas.  \n",
        "2. Se mantiene el parámetro por defecto lowercase=True\n",
        "3. Se realiza fit_transform sobre el set de entrenamiento para ajustar y transformar, y transform sobre el set de prueba (de acuerdo a lo indicado)\n",
        "4. Se entrena con el mismo modelo de Ridge utilizado en el punto 1."
      ]
    },
    {
      "cell_type": "code",
      "execution_count": null,
      "metadata": {
        "ExecuteTime": {
          "end_time": "2025-04-27T15:39:40.033251Z",
          "start_time": "2025-04-27T15:39:40.023457Z"
        },
        "id": "5aEq6jdERhcG"
      },
      "outputs": [],
      "source": [
        "# Con trigramas\n",
        "vect_comments_trigram = CountVectorizer(ngram_range=(1,3))\n",
        "#vect_comments_trigram = CountVectorizer(ngram_range=(1,3), max_features=50000)"
      ]
    },
    {
      "cell_type": "code",
      "execution_count": null,
      "metadata": {
        "ExecuteTime": {
          "end_time": "2025-04-27T15:41:33.151503Z",
          "start_time": "2025-04-27T15:39:44.333345Z"
        },
        "id": "uFO-vnVZ1P7N"
      },
      "outputs": [],
      "source": [
        "# Datos de entrenamiento (ajuste y transformación)\n",
        "X_train_vect_trigram = vect_comments_trigram.fit_transform(X_train)\n",
        "\n",
        "# Datos de prueba (solo transformación)\n",
        "X_test_vect_trigram = vect_comments_trigram.transform(X_test)"
      ]
    },
    {
      "cell_type": "markdown",
      "metadata": {
        "id": "Qvup2R-I1Uos"
      },
      "source": [
        "**Entrenamiento del modelo**"
      ]
    },
    {
      "cell_type": "markdown",
      "metadata": {
        "id": "CnBb9raR1XzS"
      },
      "source": [
        "**Proceso**:  \n",
        "1. Se utiliza nuevamente el modelo de Ridge.\n",
        "2. Se entrena el modelo utilizando los datos de entrenamiento procesados con trigramas."
      ]
    },
    {
      "cell_type": "code",
      "execution_count": null,
      "metadata": {
        "ExecuteTime": {
          "end_time": "2025-04-27T16:17:15.472834Z",
          "start_time": "2025-04-27T15:41:48.806652Z"
        },
        "colab": {
          "background_save": true
        },
        "id": "ACsr7g4D1VyB",
        "outputId": "c6798635-c288-40fb-9838-a3ed81ab8049"
      },
      "outputs": [
        {
          "data": {
            "text/html": [
              "<style>#sk-container-id-2 {\n",
              "  /* Definition of color scheme common for light and dark mode */\n",
              "  --sklearn-color-text: #000;\n",
              "  --sklearn-color-text-muted: #666;\n",
              "  --sklearn-color-line: gray;\n",
              "  /* Definition of color scheme for unfitted estimators */\n",
              "  --sklearn-color-unfitted-level-0: #fff5e6;\n",
              "  --sklearn-color-unfitted-level-1: #f6e4d2;\n",
              "  --sklearn-color-unfitted-level-2: #ffe0b3;\n",
              "  --sklearn-color-unfitted-level-3: chocolate;\n",
              "  /* Definition of color scheme for fitted estimators */\n",
              "  --sklearn-color-fitted-level-0: #f0f8ff;\n",
              "  --sklearn-color-fitted-level-1: #d4ebff;\n",
              "  --sklearn-color-fitted-level-2: #b3dbfd;\n",
              "  --sklearn-color-fitted-level-3: cornflowerblue;\n",
              "\n",
              "  /* Specific color for light theme */\n",
              "  --sklearn-color-text-on-default-background: var(--sg-text-color, var(--theme-code-foreground, var(--jp-content-font-color1, black)));\n",
              "  --sklearn-color-background: var(--sg-background-color, var(--theme-background, var(--jp-layout-color0, white)));\n",
              "  --sklearn-color-border-box: var(--sg-text-color, var(--theme-code-foreground, var(--jp-content-font-color1, black)));\n",
              "  --sklearn-color-icon: #696969;\n",
              "\n",
              "  @media (prefers-color-scheme: dark) {\n",
              "    /* Redefinition of color scheme for dark theme */\n",
              "    --sklearn-color-text-on-default-background: var(--sg-text-color, var(--theme-code-foreground, var(--jp-content-font-color1, white)));\n",
              "    --sklearn-color-background: var(--sg-background-color, var(--theme-background, var(--jp-layout-color0, #111)));\n",
              "    --sklearn-color-border-box: var(--sg-text-color, var(--theme-code-foreground, var(--jp-content-font-color1, white)));\n",
              "    --sklearn-color-icon: #878787;\n",
              "  }\n",
              "}\n",
              "\n",
              "#sk-container-id-2 {\n",
              "  color: var(--sklearn-color-text);\n",
              "}\n",
              "\n",
              "#sk-container-id-2 pre {\n",
              "  padding: 0;\n",
              "}\n",
              "\n",
              "#sk-container-id-2 input.sk-hidden--visually {\n",
              "  border: 0;\n",
              "  clip: rect(1px 1px 1px 1px);\n",
              "  clip: rect(1px, 1px, 1px, 1px);\n",
              "  height: 1px;\n",
              "  margin: -1px;\n",
              "  overflow: hidden;\n",
              "  padding: 0;\n",
              "  position: absolute;\n",
              "  width: 1px;\n",
              "}\n",
              "\n",
              "#sk-container-id-2 div.sk-dashed-wrapped {\n",
              "  border: 1px dashed var(--sklearn-color-line);\n",
              "  margin: 0 0.4em 0.5em 0.4em;\n",
              "  box-sizing: border-box;\n",
              "  padding-bottom: 0.4em;\n",
              "  background-color: var(--sklearn-color-background);\n",
              "}\n",
              "\n",
              "#sk-container-id-2 div.sk-container {\n",
              "  /* jupyter's `normalize.less` sets `[hidden] { display: none; }`\n",
              "     but bootstrap.min.css set `[hidden] { display: none !important; }`\n",
              "     so we also need the `!important` here to be able to override the\n",
              "     default hidden behavior on the sphinx rendered scikit-learn.org.\n",
              "     See: https://github.com/scikit-learn/scikit-learn/issues/21755 */\n",
              "  display: inline-block !important;\n",
              "  position: relative;\n",
              "}\n",
              "\n",
              "#sk-container-id-2 div.sk-text-repr-fallback {\n",
              "  display: none;\n",
              "}\n",
              "\n",
              "div.sk-parallel-item,\n",
              "div.sk-serial,\n",
              "div.sk-item {\n",
              "  /* draw centered vertical line to link estimators */\n",
              "  background-image: linear-gradient(var(--sklearn-color-text-on-default-background), var(--sklearn-color-text-on-default-background));\n",
              "  background-size: 2px 100%;\n",
              "  background-repeat: no-repeat;\n",
              "  background-position: center center;\n",
              "}\n",
              "\n",
              "/* Parallel-specific style estimator block */\n",
              "\n",
              "#sk-container-id-2 div.sk-parallel-item::after {\n",
              "  content: \"\";\n",
              "  width: 100%;\n",
              "  border-bottom: 2px solid var(--sklearn-color-text-on-default-background);\n",
              "  flex-grow: 1;\n",
              "}\n",
              "\n",
              "#sk-container-id-2 div.sk-parallel {\n",
              "  display: flex;\n",
              "  align-items: stretch;\n",
              "  justify-content: center;\n",
              "  background-color: var(--sklearn-color-background);\n",
              "  position: relative;\n",
              "}\n",
              "\n",
              "#sk-container-id-2 div.sk-parallel-item {\n",
              "  display: flex;\n",
              "  flex-direction: column;\n",
              "}\n",
              "\n",
              "#sk-container-id-2 div.sk-parallel-item:first-child::after {\n",
              "  align-self: flex-end;\n",
              "  width: 50%;\n",
              "}\n",
              "\n",
              "#sk-container-id-2 div.sk-parallel-item:last-child::after {\n",
              "  align-self: flex-start;\n",
              "  width: 50%;\n",
              "}\n",
              "\n",
              "#sk-container-id-2 div.sk-parallel-item:only-child::after {\n",
              "  width: 0;\n",
              "}\n",
              "\n",
              "/* Serial-specific style estimator block */\n",
              "\n",
              "#sk-container-id-2 div.sk-serial {\n",
              "  display: flex;\n",
              "  flex-direction: column;\n",
              "  align-items: center;\n",
              "  background-color: var(--sklearn-color-background);\n",
              "  padding-right: 1em;\n",
              "  padding-left: 1em;\n",
              "}\n",
              "\n",
              "\n",
              "/* Toggleable style: style used for estimator/Pipeline/ColumnTransformer box that is\n",
              "clickable and can be expanded/collapsed.\n",
              "- Pipeline and ColumnTransformer use this feature and define the default style\n",
              "- Estimators will overwrite some part of the style using the `sk-estimator` class\n",
              "*/\n",
              "\n",
              "/* Pipeline and ColumnTransformer style (default) */\n",
              "\n",
              "#sk-container-id-2 div.sk-toggleable {\n",
              "  /* Default theme specific background. It is overwritten whether we have a\n",
              "  specific estimator or a Pipeline/ColumnTransformer */\n",
              "  background-color: var(--sklearn-color-background);\n",
              "}\n",
              "\n",
              "/* Toggleable label */\n",
              "#sk-container-id-2 label.sk-toggleable__label {\n",
              "  cursor: pointer;\n",
              "  display: flex;\n",
              "  width: 100%;\n",
              "  margin-bottom: 0;\n",
              "  padding: 0.5em;\n",
              "  box-sizing: border-box;\n",
              "  text-align: center;\n",
              "  align-items: start;\n",
              "  justify-content: space-between;\n",
              "  gap: 0.5em;\n",
              "}\n",
              "\n",
              "#sk-container-id-2 label.sk-toggleable__label .caption {\n",
              "  font-size: 0.6rem;\n",
              "  font-weight: lighter;\n",
              "  color: var(--sklearn-color-text-muted);\n",
              "}\n",
              "\n",
              "#sk-container-id-2 label.sk-toggleable__label-arrow:before {\n",
              "  /* Arrow on the left of the label */\n",
              "  content: \"▸\";\n",
              "  float: left;\n",
              "  margin-right: 0.25em;\n",
              "  color: var(--sklearn-color-icon);\n",
              "}\n",
              "\n",
              "#sk-container-id-2 label.sk-toggleable__label-arrow:hover:before {\n",
              "  color: var(--sklearn-color-text);\n",
              "}\n",
              "\n",
              "/* Toggleable content - dropdown */\n",
              "\n",
              "#sk-container-id-2 div.sk-toggleable__content {\n",
              "  max-height: 0;\n",
              "  max-width: 0;\n",
              "  overflow: hidden;\n",
              "  text-align: left;\n",
              "  /* unfitted */\n",
              "  background-color: var(--sklearn-color-unfitted-level-0);\n",
              "}\n",
              "\n",
              "#sk-container-id-2 div.sk-toggleable__content.fitted {\n",
              "  /* fitted */\n",
              "  background-color: var(--sklearn-color-fitted-level-0);\n",
              "}\n",
              "\n",
              "#sk-container-id-2 div.sk-toggleable__content pre {\n",
              "  margin: 0.2em;\n",
              "  border-radius: 0.25em;\n",
              "  color: var(--sklearn-color-text);\n",
              "  /* unfitted */\n",
              "  background-color: var(--sklearn-color-unfitted-level-0);\n",
              "}\n",
              "\n",
              "#sk-container-id-2 div.sk-toggleable__content.fitted pre {\n",
              "  /* unfitted */\n",
              "  background-color: var(--sklearn-color-fitted-level-0);\n",
              "}\n",
              "\n",
              "#sk-container-id-2 input.sk-toggleable__control:checked~div.sk-toggleable__content {\n",
              "  /* Expand drop-down */\n",
              "  max-height: 200px;\n",
              "  max-width: 100%;\n",
              "  overflow: auto;\n",
              "}\n",
              "\n",
              "#sk-container-id-2 input.sk-toggleable__control:checked~label.sk-toggleable__label-arrow:before {\n",
              "  content: \"▾\";\n",
              "}\n",
              "\n",
              "/* Pipeline/ColumnTransformer-specific style */\n",
              "\n",
              "#sk-container-id-2 div.sk-label input.sk-toggleable__control:checked~label.sk-toggleable__label {\n",
              "  color: var(--sklearn-color-text);\n",
              "  background-color: var(--sklearn-color-unfitted-level-2);\n",
              "}\n",
              "\n",
              "#sk-container-id-2 div.sk-label.fitted input.sk-toggleable__control:checked~label.sk-toggleable__label {\n",
              "  background-color: var(--sklearn-color-fitted-level-2);\n",
              "}\n",
              "\n",
              "/* Estimator-specific style */\n",
              "\n",
              "/* Colorize estimator box */\n",
              "#sk-container-id-2 div.sk-estimator input.sk-toggleable__control:checked~label.sk-toggleable__label {\n",
              "  /* unfitted */\n",
              "  background-color: var(--sklearn-color-unfitted-level-2);\n",
              "}\n",
              "\n",
              "#sk-container-id-2 div.sk-estimator.fitted input.sk-toggleable__control:checked~label.sk-toggleable__label {\n",
              "  /* fitted */\n",
              "  background-color: var(--sklearn-color-fitted-level-2);\n",
              "}\n",
              "\n",
              "#sk-container-id-2 div.sk-label label.sk-toggleable__label,\n",
              "#sk-container-id-2 div.sk-label label {\n",
              "  /* The background is the default theme color */\n",
              "  color: var(--sklearn-color-text-on-default-background);\n",
              "}\n",
              "\n",
              "/* On hover, darken the color of the background */\n",
              "#sk-container-id-2 div.sk-label:hover label.sk-toggleable__label {\n",
              "  color: var(--sklearn-color-text);\n",
              "  background-color: var(--sklearn-color-unfitted-level-2);\n",
              "}\n",
              "\n",
              "/* Label box, darken color on hover, fitted */\n",
              "#sk-container-id-2 div.sk-label.fitted:hover label.sk-toggleable__label.fitted {\n",
              "  color: var(--sklearn-color-text);\n",
              "  background-color: var(--sklearn-color-fitted-level-2);\n",
              "}\n",
              "\n",
              "/* Estimator label */\n",
              "\n",
              "#sk-container-id-2 div.sk-label label {\n",
              "  font-family: monospace;\n",
              "  font-weight: bold;\n",
              "  display: inline-block;\n",
              "  line-height: 1.2em;\n",
              "}\n",
              "\n",
              "#sk-container-id-2 div.sk-label-container {\n",
              "  text-align: center;\n",
              "}\n",
              "\n",
              "/* Estimator-specific */\n",
              "#sk-container-id-2 div.sk-estimator {\n",
              "  font-family: monospace;\n",
              "  border: 1px dotted var(--sklearn-color-border-box);\n",
              "  border-radius: 0.25em;\n",
              "  box-sizing: border-box;\n",
              "  margin-bottom: 0.5em;\n",
              "  /* unfitted */\n",
              "  background-color: var(--sklearn-color-unfitted-level-0);\n",
              "}\n",
              "\n",
              "#sk-container-id-2 div.sk-estimator.fitted {\n",
              "  /* fitted */\n",
              "  background-color: var(--sklearn-color-fitted-level-0);\n",
              "}\n",
              "\n",
              "/* on hover */\n",
              "#sk-container-id-2 div.sk-estimator:hover {\n",
              "  /* unfitted */\n",
              "  background-color: var(--sklearn-color-unfitted-level-2);\n",
              "}\n",
              "\n",
              "#sk-container-id-2 div.sk-estimator.fitted:hover {\n",
              "  /* fitted */\n",
              "  background-color: var(--sklearn-color-fitted-level-2);\n",
              "}\n",
              "\n",
              "/* Specification for estimator info (e.g. \"i\" and \"?\") */\n",
              "\n",
              "/* Common style for \"i\" and \"?\" */\n",
              "\n",
              ".sk-estimator-doc-link,\n",
              "a:link.sk-estimator-doc-link,\n",
              "a:visited.sk-estimator-doc-link {\n",
              "  float: right;\n",
              "  font-size: smaller;\n",
              "  line-height: 1em;\n",
              "  font-family: monospace;\n",
              "  background-color: var(--sklearn-color-background);\n",
              "  border-radius: 1em;\n",
              "  height: 1em;\n",
              "  width: 1em;\n",
              "  text-decoration: none !important;\n",
              "  margin-left: 0.5em;\n",
              "  text-align: center;\n",
              "  /* unfitted */\n",
              "  border: var(--sklearn-color-unfitted-level-1) 1pt solid;\n",
              "  color: var(--sklearn-color-unfitted-level-1);\n",
              "}\n",
              "\n",
              ".sk-estimator-doc-link.fitted,\n",
              "a:link.sk-estimator-doc-link.fitted,\n",
              "a:visited.sk-estimator-doc-link.fitted {\n",
              "  /* fitted */\n",
              "  border: var(--sklearn-color-fitted-level-1) 1pt solid;\n",
              "  color: var(--sklearn-color-fitted-level-1);\n",
              "}\n",
              "\n",
              "/* On hover */\n",
              "div.sk-estimator:hover .sk-estimator-doc-link:hover,\n",
              ".sk-estimator-doc-link:hover,\n",
              "div.sk-label-container:hover .sk-estimator-doc-link:hover,\n",
              ".sk-estimator-doc-link:hover {\n",
              "  /* unfitted */\n",
              "  background-color: var(--sklearn-color-unfitted-level-3);\n",
              "  color: var(--sklearn-color-background);\n",
              "  text-decoration: none;\n",
              "}\n",
              "\n",
              "div.sk-estimator.fitted:hover .sk-estimator-doc-link.fitted:hover,\n",
              ".sk-estimator-doc-link.fitted:hover,\n",
              "div.sk-label-container:hover .sk-estimator-doc-link.fitted:hover,\n",
              ".sk-estimator-doc-link.fitted:hover {\n",
              "  /* fitted */\n",
              "  background-color: var(--sklearn-color-fitted-level-3);\n",
              "  color: var(--sklearn-color-background);\n",
              "  text-decoration: none;\n",
              "}\n",
              "\n",
              "/* Span, style for the box shown on hovering the info icon */\n",
              ".sk-estimator-doc-link span {\n",
              "  display: none;\n",
              "  z-index: 9999;\n",
              "  position: relative;\n",
              "  font-weight: normal;\n",
              "  right: .2ex;\n",
              "  padding: .5ex;\n",
              "  margin: .5ex;\n",
              "  width: min-content;\n",
              "  min-width: 20ex;\n",
              "  max-width: 50ex;\n",
              "  color: var(--sklearn-color-text);\n",
              "  box-shadow: 2pt 2pt 4pt #999;\n",
              "  /* unfitted */\n",
              "  background: var(--sklearn-color-unfitted-level-0);\n",
              "  border: .5pt solid var(--sklearn-color-unfitted-level-3);\n",
              "}\n",
              "\n",
              ".sk-estimator-doc-link.fitted span {\n",
              "  /* fitted */\n",
              "  background: var(--sklearn-color-fitted-level-0);\n",
              "  border: var(--sklearn-color-fitted-level-3);\n",
              "}\n",
              "\n",
              ".sk-estimator-doc-link:hover span {\n",
              "  display: block;\n",
              "}\n",
              "\n",
              "/* \"?\"-specific style due to the `<a>` HTML tag */\n",
              "\n",
              "#sk-container-id-2 a.estimator_doc_link {\n",
              "  float: right;\n",
              "  font-size: 1rem;\n",
              "  line-height: 1em;\n",
              "  font-family: monospace;\n",
              "  background-color: var(--sklearn-color-background);\n",
              "  border-radius: 1rem;\n",
              "  height: 1rem;\n",
              "  width: 1rem;\n",
              "  text-decoration: none;\n",
              "  /* unfitted */\n",
              "  color: var(--sklearn-color-unfitted-level-1);\n",
              "  border: var(--sklearn-color-unfitted-level-1) 1pt solid;\n",
              "}\n",
              "\n",
              "#sk-container-id-2 a.estimator_doc_link.fitted {\n",
              "  /* fitted */\n",
              "  border: var(--sklearn-color-fitted-level-1) 1pt solid;\n",
              "  color: var(--sklearn-color-fitted-level-1);\n",
              "}\n",
              "\n",
              "/* On hover */\n",
              "#sk-container-id-2 a.estimator_doc_link:hover {\n",
              "  /* unfitted */\n",
              "  background-color: var(--sklearn-color-unfitted-level-3);\n",
              "  color: var(--sklearn-color-background);\n",
              "  text-decoration: none;\n",
              "}\n",
              "\n",
              "#sk-container-id-2 a.estimator_doc_link.fitted:hover {\n",
              "  /* fitted */\n",
              "  background-color: var(--sklearn-color-fitted-level-3);\n",
              "}\n",
              "</style><div id=\"sk-container-id-2\" class=\"sk-top-container\"><div class=\"sk-text-repr-fallback\"><pre>Ridge(solver=&#x27;sag&#x27;)</pre><b>In a Jupyter environment, please rerun this cell to show the HTML representation or trust the notebook. <br />On GitHub, the HTML representation is unable to render, please try loading this page with nbviewer.org.</b></div><div class=\"sk-container\" hidden><div class=\"sk-item\"><div class=\"sk-estimator fitted sk-toggleable\"><input class=\"sk-toggleable__control sk-hidden--visually\" id=\"sk-estimator-id-2\" type=\"checkbox\" checked><label for=\"sk-estimator-id-2\" class=\"sk-toggleable__label fitted sk-toggleable__label-arrow\"><div><div>Ridge</div></div><div><a class=\"sk-estimator-doc-link fitted\" rel=\"noreferrer\" target=\"_blank\" href=\"https://scikit-learn.org/1.6/modules/generated/sklearn.linear_model.Ridge.html\">?<span>Documentation for Ridge</span></a><span class=\"sk-estimator-doc-link fitted\">i<span>Fitted</span></span></div></label><div class=\"sk-toggleable__content fitted\"><pre>Ridge(solver=&#x27;sag&#x27;)</pre></div> </div></div></div></div>"
            ],
            "text/plain": [
              "Ridge(solver='sag')"
            ]
          },
          "execution_count": 15,
          "metadata": {},
          "output_type": "execute_result"
        }
      ],
      "source": [
        "# Traer el modelo definido\n",
        "modelo = Ridge(solver='sag')\n",
        "\n",
        "\n",
        "# Datos de entrenamiento con trigramas\n",
        "modelo.fit(X_train_vect_trigram, y_train)\n"
      ]
    },
    {
      "cell_type": "markdown",
      "metadata": {
        "id": "O26Oq3261lzy"
      },
      "source": [
        "**Evaluación del modelo**"
      ]
    },
    {
      "cell_type": "markdown",
      "metadata": {
        "id": "ytZpM3Na15QK"
      },
      "source": [
        "**Proceso:**\n",
        "\n",
        "1. Se usa el conjunto de prueba X_test_vect_trigram de acuerdo a el modelo entrenado.\n",
        "2. Se calcula el (MSE) para evaluar el desempeño del modelo."
      ]
    },
    {
      "cell_type": "code",
      "execution_count": null,
      "metadata": {
        "ExecuteTime": {
          "end_time": "2025-04-27T16:26:38.302243Z",
          "start_time": "2025-04-27T16:26:38.000071Z"
        },
        "id": "-grCLqId1lfU",
        "outputId": "77323523-de51-4449-a908-14add7bf6ddb"
      },
      "outputs": [
        {
          "name": "stdout",
          "output_type": "stream",
          "text": [
            "MSE Trigramas: 0.0333\n"
          ]
        }
      ],
      "source": [
        "# Datos de prueba\n",
        "y_pred_trigram = modelo.predict(X_test_vect_trigram)\n",
        "\n",
        "# Cálculo del MSE\n",
        "mse_trigram = mean_squared_error(y_test, y_pred_trigram)\n",
        "\n",
        "# Resultado\n",
        "print(f\"MSE Trigramas: {mse_trigram:.4f}\")"
      ]
    },
    {
      "cell_type": "markdown",
      "metadata": {
        "id": "FXZyZAQt2FXz"
      },
      "source": [
        "**Conclusion:**\n",
        "Se obtuvo un resultado del MSE del 0.0333 lo que indica que el modelo tienen una pequeña mejora frente al punto anterior. Aunque el modelo logra capturar características adicionales del texto al incluir trigramas, no necesariamente mejora el desempeño predictivo sobre el conjunto de prueba."
      ]
    },
    {
      "cell_type": "markdown",
      "metadata": {
        "id": "eODDGpWIRhcG"
      },
      "source": [
        "# Punto 3 - TfidfVectorizer\n",
        "\n",
        "Investigen sobre la función TfidfVectorizer. En la celda de texto 3, expliquen en qué consiste esta técnica de tokenización (describanla y expliquen su funcionamiento) y cúales son las ventajas o deventajas de su uso al compararlo con la función CountVectorizer."
      ]
    },
    {
      "cell_type": "markdown",
      "metadata": {
        "id": "Tzu-d9RYYF8f"
      },
      "source": [
        "Referencia: https://www.geeksforgeeks.org/how-to-store-a-tfidfvectorizer-for-future-use-in-scikit-learn/\n",
        "\n",
        "### ¿Qué es TfidfVectorizer?\n",
        "TfidfVectorizer es una técnica de extracción de características de la biblioteca scikit-learn que convierte una colección de documentos de texto sin procesar en una matriz de características TF-IDF (Frecuencia de Término-Frecuencia Inversa de Documento). Este es un paso común en el Procesamiento del Lenguaje Natural (PLN) y en las tareas de minería de texto para transformar datos de texto en datos numéricos con los que los algoritmos de aprendizaje automático pueden trabajar."
      ]
    },
    {
      "cell_type": "markdown",
      "metadata": {
        "id": "jT-GsV-fYF8f"
      },
      "source": [
        "### Cómo funciona TfidfVectorizer?\n",
        "\n",
        "Se descompone por partes\n",
        "\n",
        "\n",
        "\n",
        "### **1. Frecuencia de Término (TF):**\n",
        "Mide la frecuencia con la que aparece un término (palabra) en un documento. Se asume que cuanto más frecuentemente aparece un término en un documento, más importante es. Sin embargo, esto por sí solo puede ser engañoso, ya que palabras comunes (como \"el\", \"es\", \"y\") aparecerán con frecuencia en muchos documentos.\n",
        "![TF Formula](data:image/webp;base64,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)\n"
      ]
    },
    {
      "cell_type": "code",
      "execution_count": null,
      "metadata": {
        "ExecuteTime": {
          "end_time": "2025-04-27T16:27:03.088568Z",
          "start_time": "2025-04-27T16:27:03.068052Z"
        },
        "id": "t3fKgxfsYF8w"
      },
      "outputs": [],
      "source": [
        "# Data de prueba - Docs\n",
        "docs = [\n",
        "    \"el gato come el pescado\",\n",
        "    \"el perro corre y el gato duerme\"\n",
        "]"
      ]
    },
    {
      "cell_type": "code",
      "execution_count": null,
      "metadata": {
        "ExecuteTime": {
          "end_time": "2025-04-27T16:27:04.493324Z",
          "start_time": "2025-04-27T16:27:04.465344Z"
        },
        "id": "r0f5f6cuYF8x",
        "outputId": "3aaa6a85-7ccd-4ba8-f3bb-dcf81385d516"
      },
      "outputs": [
        {
          "name": "stdout",
          "output_type": "stream",
          "text": [
            "Frecuencia de término (TF) pura\n"
          ]
        },
        {
          "data": {
            "text/html": [
              "<div>\n",
              "<style scoped>\n",
              "    .dataframe tbody tr th:only-of-type {\n",
              "        vertical-align: middle;\n",
              "    }\n",
              "\n",
              "    .dataframe tbody tr th {\n",
              "        vertical-align: top;\n",
              "    }\n",
              "\n",
              "    .dataframe thead th {\n",
              "        text-align: right;\n",
              "    }\n",
              "</style>\n",
              "<table border=\"1\" class=\"dataframe\">\n",
              "  <thead>\n",
              "    <tr style=\"text-align: right;\">\n",
              "      <th></th>\n",
              "      <th>come</th>\n",
              "      <th>corre</th>\n",
              "      <th>duerme</th>\n",
              "      <th>el</th>\n",
              "      <th>gato</th>\n",
              "      <th>perro</th>\n",
              "      <th>pescado</th>\n",
              "    </tr>\n",
              "  </thead>\n",
              "  <tbody>\n",
              "    <tr>\n",
              "      <th>Doc A</th>\n",
              "      <td>1</td>\n",
              "      <td>0</td>\n",
              "      <td>0</td>\n",
              "      <td>2</td>\n",
              "      <td>1</td>\n",
              "      <td>0</td>\n",
              "      <td>1</td>\n",
              "    </tr>\n",
              "    <tr>\n",
              "      <th>Doc B</th>\n",
              "      <td>0</td>\n",
              "      <td>1</td>\n",
              "      <td>1</td>\n",
              "      <td>2</td>\n",
              "      <td>1</td>\n",
              "      <td>1</td>\n",
              "      <td>0</td>\n",
              "    </tr>\n",
              "  </tbody>\n",
              "</table>\n",
              "</div>"
            ],
            "text/plain": [
              "       come  corre  duerme  el  gato  perro  pescado\n",
              "Doc A     1      0       0   2     1      0        1\n",
              "Doc B     0      1       1   2     1      1        0"
            ]
          },
          "execution_count": 17,
          "metadata": {},
          "output_type": "execute_result"
        }
      ],
      "source": [
        "# Solo TF, sin IDF ni normalización\n",
        "tf_only = TfidfVectorizer(use_idf=False, norm=None)\n",
        "X_tf = tf_only.fit_transform(docs)\n",
        "\n",
        "df_tf = pd.DataFrame(\n",
        "    X_tf.toarray().astype(int),\n",
        "    columns=tf_only.get_feature_names_out(),\n",
        "    index=[\"Doc A\", \"Doc B\"]\n",
        ")\n",
        "\n",
        "print(\"Frecuencia de término (TF) pura\")\n",
        "df_tf.head()\n"
      ]
    },
    {
      "cell_type": "markdown",
      "metadata": {
        "id": "qtjiiWz3YF8y"
      },
      "source": [
        "Sin aplicar todavía la parte “IDF”.\n",
        "\n",
        "*Lectura rápida*\n",
        "\n",
        "* En **Doc A** la palabra **«el»** aparece 2 veces; otras palabras solo 1.  \n",
        "* En **Doc B** «el» domina con 3 apariciones.  \n",
        "* Si usáramos estos conteos directamente, **«el»** se vería como la palabra “más importante” en ambos documentos, a pesar de ser un término muy común que no aporta significado.\n",
        "\n",
        "Esto ilustra por qué, en la práctica, la fase de TF suele complementarse con **IDF** (o con la eliminación de *stop-words*) para atenuar el peso de las palabras extremadamente frecuentes.\n",
        "\n",
        "*Limitaciones:*\n",
        "- TF no tiene en cuenta la importancia global de un término en todo el corpus.\n",
        "- Palabras comunes como \"el\" o \"y\" pueden tener puntuaciones altas de TF, pero no son significativas para distinguir documentos.\n",
        "\n"
      ]
    },
    {
      "cell_type": "markdown",
      "metadata": {
        "id": "aJH8tb3WYF8z"
      },
      "source": [
        "### **2. Frecuencia Inversa de Documento (IDF):**\n",
        "Mide la importancia de un término considerando su frecuencia de aparición en todos los documentos del conjunto de datos. Cuantos más documentos aparecen, menos importante es. El valor IDF de un término disminuye a medida que aumenta el número de documentos que lo contienen.\n",
        "\n",
        "![IDF Formula](data:image/webp;base64,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)"
      ]
    },
    {
      "cell_type": "code",
      "execution_count": null,
      "metadata": {
        "ExecuteTime": {
          "end_time": "2025-04-27T16:27:09.450455Z",
          "start_time": "2025-04-27T16:27:09.426380Z"
        },
        "id": "YzCGhjR9YF80",
        "outputId": "2df19368-7d33-4d4d-caf7-5103bda7f633"
      },
      "outputs": [
        {
          "name": "stdout",
          "output_type": "stream",
          "text": [
            "IDF por término\n"
          ]
        },
        {
          "data": {
            "text/html": [
              "<div>\n",
              "<style scoped>\n",
              "    .dataframe tbody tr th:only-of-type {\n",
              "        vertical-align: middle;\n",
              "    }\n",
              "\n",
              "    .dataframe tbody tr th {\n",
              "        vertical-align: top;\n",
              "    }\n",
              "\n",
              "    .dataframe thead th {\n",
              "        text-align: right;\n",
              "    }\n",
              "</style>\n",
              "<table border=\"1\" class=\"dataframe\">\n",
              "  <thead>\n",
              "    <tr style=\"text-align: right;\">\n",
              "      <th></th>\n",
              "      <th>término</th>\n",
              "      <th>IDF</th>\n",
              "    </tr>\n",
              "  </thead>\n",
              "  <tbody>\n",
              "    <tr>\n",
              "      <th>0</th>\n",
              "      <td>come</td>\n",
              "      <td>1.405</td>\n",
              "    </tr>\n",
              "    <tr>\n",
              "      <th>1</th>\n",
              "      <td>corre</td>\n",
              "      <td>1.405</td>\n",
              "    </tr>\n",
              "    <tr>\n",
              "      <th>2</th>\n",
              "      <td>duerme</td>\n",
              "      <td>1.405</td>\n",
              "    </tr>\n",
              "    <tr>\n",
              "      <th>5</th>\n",
              "      <td>perro</td>\n",
              "      <td>1.405</td>\n",
              "    </tr>\n",
              "    <tr>\n",
              "      <th>6</th>\n",
              "      <td>pescado</td>\n",
              "      <td>1.405</td>\n",
              "    </tr>\n",
              "    <tr>\n",
              "      <th>3</th>\n",
              "      <td>el</td>\n",
              "      <td>1.000</td>\n",
              "    </tr>\n",
              "    <tr>\n",
              "      <th>4</th>\n",
              "      <td>gato</td>\n",
              "      <td>1.000</td>\n",
              "    </tr>\n",
              "  </tbody>\n",
              "</table>\n",
              "</div>"
            ],
            "text/plain": [
              "   término    IDF\n",
              "0     come  1.405\n",
              "1    corre  1.405\n",
              "2   duerme  1.405\n",
              "5    perro  1.405\n",
              "6  pescado  1.405\n",
              "3       el  1.000\n",
              "4     gato  1.000"
            ]
          },
          "execution_count": 18,
          "metadata": {},
          "output_type": "execute_result"
        }
      ],
      "source": [
        "# dejamos la IDF \"pura\", sin normalizar TF\n",
        "tfidf_full = TfidfVectorizer(norm=None, smooth_idf=True)\n",
        "tfidf_full.fit(docs)\n",
        "\n",
        "idf_vals = pd.DataFrame(\n",
        "    {\n",
        "        \"término\": tfidf_full.get_feature_names_out(),\n",
        "        \"IDF\": tfidf_full.idf_.round(3)\n",
        "    }\n",
        ").sort_values(\"IDF\", ascending=False)\n",
        "\n",
        "print(\"IDF por término\")\n",
        "idf_vals.head(10)"
      ]
    },
    {
      "cell_type": "markdown",
      "metadata": {
        "id": "M5Ir0M-2YF81"
      },
      "source": [
        "*la tabla anterior sugiere*\n",
        "\n",
        "* **«el»** aparece en **ambos** documentos => recibe el **IDF más bajo** (≈ 1.0).  \n",
        "* Las demás palabras se encuentran solo en **uno** de los documentos → IDF ≈ 1.405, más alto.\n",
        "\n",
        "**Entonces**  \n",
        " - El IDF “premia” términos que son **raros a nivel de corpus** (p. ej. «pescado»), porque aportan más información para diferenciar documentos.  \n",
        " - Y “penaliza” los que aparecen en prácticamente **todas** las frases (p. ej. «el»), porque aportan muy poca.\n",
        "\n",
        "*Limitaciones del IDF por sí solo:*\n",
        "\n",
        "- El IDF no considera cuán frecuentemente aparece un término dentro de un documento específico.\n",
        "- Un término podría ser raro en todo el corpus (IDF alto) pero irrelevante en un documento específico (TF bajo).\n"
      ]
    },
    {
      "cell_type": "markdown",
      "metadata": {
        "id": "uzicfz_VYF82"
      },
      "source": [
        "###  **3. TF-IDF:**\n",
        "El producto de TF e IDF. Esta puntuación indica la importancia de un término dentro de un documento específico, a la vez que reduce el peso de los términos comunes que son menos informativos.\n",
        "\n",
        "\n",
        "1. Primero se observa los **conteos brutos** (TF). Ahí **«el»** dominaba.  \n",
        "2. Ahora IDF indica que «el» merece *poco peso global*.  \n",
        "3. Cuando se combina ambos (TF × IDF), «el» seguirá influyendo (aparece 2 o 3 veces), pero su peso total quedará **atenuado** frente a términos exclusivos como «pescado», «perro» o «corre».\n",
        "\n",
        "De esta forma TF-IDF equilibra la importancia local de un término dentro de su documento (TF) con su rareza global en el corpus (IDF).\n"
      ]
    },
    {
      "cell_type": "code",
      "execution_count": null,
      "metadata": {
        "ExecuteTime": {
          "end_time": "2025-04-27T16:27:14.320926Z",
          "start_time": "2025-04-27T16:27:14.292479Z"
        },
        "id": "jRA90RTGYF82",
        "outputId": "7048677e-524e-4b43-cf09-eed2fd54b668"
      },
      "outputs": [
        {
          "data": {
            "text/html": [
              "<div>\n",
              "<style scoped>\n",
              "    .dataframe tbody tr th:only-of-type {\n",
              "        vertical-align: middle;\n",
              "    }\n",
              "\n",
              "    .dataframe tbody tr th {\n",
              "        vertical-align: top;\n",
              "    }\n",
              "\n",
              "    .dataframe thead th {\n",
              "        text-align: right;\n",
              "    }\n",
              "</style>\n",
              "<table border=\"1\" class=\"dataframe\">\n",
              "  <thead>\n",
              "    <tr style=\"text-align: right;\">\n",
              "      <th></th>\n",
              "      <th>come</th>\n",
              "      <th>corre</th>\n",
              "      <th>duerme</th>\n",
              "      <th>el</th>\n",
              "      <th>gato</th>\n",
              "      <th>perro</th>\n",
              "      <th>pescado</th>\n",
              "    </tr>\n",
              "  </thead>\n",
              "  <tbody>\n",
              "    <tr>\n",
              "      <th>Doc 0</th>\n",
              "      <td>0.47</td>\n",
              "      <td>0.000</td>\n",
              "      <td>0.000</td>\n",
              "      <td>0.669</td>\n",
              "      <td>0.334</td>\n",
              "      <td>0.000</td>\n",
              "      <td>0.47</td>\n",
              "    </tr>\n",
              "    <tr>\n",
              "      <th>Doc 1</th>\n",
              "      <td>0.00</td>\n",
              "      <td>0.425</td>\n",
              "      <td>0.425</td>\n",
              "      <td>0.605</td>\n",
              "      <td>0.303</td>\n",
              "      <td>0.425</td>\n",
              "      <td>0.00</td>\n",
              "    </tr>\n",
              "  </tbody>\n",
              "</table>\n",
              "</div>"
            ],
            "text/plain": [
              "       come  corre  duerme     el   gato  perro  pescado\n",
              "Doc 0  0.47  0.000   0.000  0.669  0.334  0.000     0.47\n",
              "Doc 1  0.00  0.425   0.425  0.605  0.303  0.425     0.00"
            ]
          },
          "execution_count": 19,
          "metadata": {},
          "output_type": "execute_result"
        }
      ],
      "source": [
        "# L2 normalization por defecto\n",
        "tfidf = TfidfVectorizer()\n",
        "X = tfidf.fit_transform(docs)\n",
        "\n",
        "df_tf_idf = pd.DataFrame(\n",
        "    X.toarray().round(3),\n",
        "    columns=tfidf.get_feature_names_out(),\n",
        "    index=[\"Doc 0\", \"Doc 1\"]\n",
        ")\n",
        "\n",
        "df_tf_idf.head()"
      ]
    },
    {
      "cell_type": "markdown",
      "metadata": {
        "id": "ZC3FuQpLYF83"
      },
      "source": [
        "la tabla anterior revela:\n",
        "\n",
        "* Cada fila está **normalizada** (norma L2 = 1).  \n",
        "* **«el»** sigue siendo el término más repetido en ambos documentos, pero su peso (≈ 0.66 y 0.61) queda acotado, evitando que domine completamente el vector.  \n",
        "* Palabras exclusivas de cada documento («pescado», «corre», «duerme», «perro») reciben pesos cercanos a 0.42 – 0.47, reflejando su alta capacidad de distinguir entre los dos textos.  \n",
        "* La combinación TF × IDF + normalización hace que los vectores puedan compararse fácilmente aun si los documentos tuvieran longitudes distintas.\n"
      ]
    },
    {
      "cell_type": "markdown",
      "metadata": {
        "id": "OuWaq6etYF84"
      },
      "source": [
        "### `TfidfVectorizer` vs `CountVectorizer`\n",
        "\n",
        "| Dimensión | **CountVectorizer** (conteo puro) | **TfidfVectorizer** (TF × IDF) |\n",
        "|-----------|-----------------------------------|--------------------------------|\n",
        "| **Valor que almacena** | Entero con el número de apariciones de cada término en el documento. | Peso real que combina la frecuencia interna (TF) y la rareza global (IDF). |\n",
        "| **Influencia de palabras muy frecuentes** | Alta → términos como *«el», «y»* pueden dominar el vector. | Baja → el IDF desinfla automáticamente las palabras comunes. |\n",
        "| **Necesidad de pre-proceso** | Frecuentemente requiere eliminar *stop-words* y normalizar manualmente. | Menos limpieza necesaria: la ponderación reduce el ruido por sí sola. |\n",
        "| **Efecto del tamaño del documento** | Documentos largos producen vectores con conteos grandes (sesgo). | Normalización (L2 por defecto) equilibra la longitud de los documentos. |\n",
        "| **Interpretabilidad** | Fácil: un “5” significa 5 apariciones. | Menos directa: un peso 0.47 refleja TF × IDF. |\n",
        "| **Coste computacional** | Una sola pasada; matriz de enteros (ligera). | Requiere calcular DF → una pasada extra; matriz de flotantes (más memoria). |\n",
        "| **Rendimiento típico en clasificación** | Bueno, pero el modelo debe aprender a ignorar el ruido de *stop-words*. | Suele mejorar F1/AUC en SVM, regresión logística, redes simples. |\n",
        "| **Escenarios donde brilla** | *Modelado de lenguaje*, Naïve Bayes multinomial, análisis de repetición. | Clasificación temática, motores de búsqueda, detección de spam/sentimiento. |\n",
        "| **Escenarios donde falla** | Cuando hay muchas *stop-words* o documentos muy largos/desbalanceados. | Cuando la señal depende del **conteo absoluto** (p.ej. «spam spam spam»). |\n",
        "\n",
        "---\n",
        "\n",
        "#### Reglas prácticas para el uso de cada uno\n",
        "\n",
        "1. **Empieza con `TfidfVectorizer`** para tareas de clasificación, clustering o búsqueda si no conoces bien tu corpus.  \n",
        "2. **Prefiere `CountVectorizer`** cuando:  \n",
        "   * Necesites probabilidades basadas en conteo (Naïve Bayes clásico, modelos de lenguaje).  \n",
        "   * La señal sea la **cantidad absoluta** de un término (detección de exceso de repetición, análisis de estilo).  \n",
        "   * Busques interpretabilidad directa de “cuántas veces aparece la palabra X”.\n"
      ]
    },
    {
      "cell_type": "markdown",
      "metadata": {
        "id": "9fwPfBSzRhcG"
      },
      "source": [
        "## Punto 4 - Tokenización con TfidfVectorizer\n",
        "\n",
        "En la celda 4 creen y entrenen el mismo modelo de regresión del primer punto, para que prediga la probabilidad de que un comentario sea tóxico, usando los set de entrenamiento y test definidos anteriormente. Procesen los comentarios con la función **TfidfVectorizer** y presenten el desempeño del modelo con la métrica del MSE.\n",
        "\n",
        "Recuerden que el preprocesamiento que se haga sobre los datos de entrenamiento  (*.fit_transform()*) deben ser aplicado al set de test (*.transform()*)."
      ]
    },
    {
      "cell_type": "code",
      "execution_count": null,
      "metadata": {
        "ExecuteTime": {
          "end_time": "2025-04-27T16:27:37.538768Z",
          "start_time": "2025-04-27T16:27:20.501710Z"
        },
        "id": "sqcuxXIFRhcG"
      },
      "outputs": [],
      "source": [
        "# Celda 4\n",
        "# Uso de TfidVectorizer\n",
        "tfidf = TfidfVectorizer()\n",
        "\n",
        "# En Train\n",
        "X_train_tfidf = tfidf.fit_transform(X_train)\n",
        "\n",
        "#En Test\n",
        "X_test_tfidf = tfidf.transform(X_test)\n"
      ]
    },
    {
      "cell_type": "code",
      "execution_count": null,
      "metadata": {
        "ExecuteTime": {
          "end_time": "2025-04-27T16:28:18.402559Z",
          "start_time": "2025-04-27T16:28:12.950825Z"
        },
        "id": "cuylRNLEfmxM"
      },
      "outputs": [],
      "source": [
        "#Entrenamiento con Ridge y predicción\n",
        "ridge = Ridge(alpha=1.0)\n",
        "ridge.fit(X_train_tfidf, y_train)\n",
        "\n",
        "y_pred = ridge.predict(X_test_tfidf)"
      ]
    },
    {
      "cell_type": "code",
      "execution_count": null,
      "metadata": {
        "ExecuteTime": {
          "end_time": "2025-04-27T16:29:03.816649Z",
          "start_time": "2025-04-27T16:29:03.802277Z"
        },
        "colab": {
          "base_uri": "https://localhost:8080/"
        },
        "id": "OMl7vVNlfnw_",
        "outputId": "8d46d37e-9c0b-4ee7-d4f2-9f663d029d68"
      },
      "outputs": [
        {
          "name": "stdout",
          "output_type": "stream",
          "text": [
            "MSE TfidfVectorizer: 0.0181\n"
          ]
        }
      ],
      "source": [
        "# Evaluar con MSE\n",
        "mse_tfidf = mean_squared_error(y_test, y_pred)\n",
        "print(f\"MSE TfidfVectorizer: {mse_tfidf:.4f}\")"
      ]
    },
    {
      "cell_type": "markdown",
      "metadata": {
        "id": "bVNjT2kXKH32"
      },
      "source": [
        "Muesta un mejor desempeño en comparación con los modelos utilizados con CountVectorizer con unigramas y trigramas. Ya que TfidfVectorizer no solo considera la frecuencia de las palabras, sino también su importancia relativa en los comentarios, haciendo que se capture de manera más efectiva las características relevantes para predecir la toxicidad. Mejora la calidad de las predicciones"
      ]
    },
    {
      "cell_type": "markdown",
      "metadata": {
        "id": "pTjL0xtHRhcG"
      },
      "source": [
        "## Punto 5 - Comparación y análisis de resultados\n",
        "\n",
        "En la celda 5 comparen los resultados obtenidos de los diferentes modelos y comenten cómo el preprocesamiento de texto afecta el desempeño."
      ]
    },
    {
      "cell_type": "code",
      "execution_count": null,
      "metadata": {
        "ExecuteTime": {
          "end_time": "2025-04-27T12:34:48.231792Z",
          "start_time": "2025-04-27T04:00:24.743812Z"
        },
        "id": "5Xz9Z-SkRhcG",
        "outputId": "887b6240-cef9-4b33-a2c7-e8bc730a0f35"
      },
      "outputs": [
        {
          "data": {
            "image/png": "[encoded data removed]",
            "text/plain": [
              "<Figure size 1000x600 with 1 Axes>"
            ]
          },
          "metadata": {},
          "output_type": "display_data"
        },
        {
          "data": {
            "text/html": [
              "<style type=\"text/css\">\n",
              "#T_127a4 th {\n",
              "  text-align: center;\n",
              "}\n",
              "#T_127a4_row0_col0, #T_127a4_row0_col1, #T_127a4_row1_col0, #T_127a4_row1_col1, #T_127a4_row2_col0, #T_127a4_row2_col1 {\n",
              "  text-align: center;\n",
              "}\n",
              "</style>\n",
              "<table id=\"T_127a4\">\n",
              "  <thead>\n",
              "    <tr>\n",
              "      <th class=\"blank level0\" >&nbsp;</th>\n",
              "      <th id=\"T_127a4_level0_col0\" class=\"col_heading level0 col0\" >Técnica de Tokenización</th>\n",
              "      <th id=\"T_127a4_level0_col1\" class=\"col_heading level0 col1\" >MSE Obtenido</th>\n",
              "    </tr>\n",
              "  </thead>\n",
              "  <tbody>\n",
              "    <tr>\n",
              "      <th id=\"T_127a4_level0_row0\" class=\"row_heading level0 row0\" >0</th>\n",
              "      <td id=\"T_127a4_row0_col0\" class=\"data row0 col0\" >CountVectorizer (Unigrama)</td>\n",
              "      <td id=\"T_127a4_row0_col1\" class=\"data row0 col1\" >0.026128</td>\n",
              "    </tr>\n",
              "    <tr>\n",
              "      <th id=\"T_127a4_level0_row1\" class=\"row_heading level0 row1\" >1</th>\n",
              "      <td id=\"T_127a4_row1_col0\" class=\"data row1 col0\" >CountVectorizer (Trigrama)</td>\n",
              "      <td id=\"T_127a4_row1_col1\" class=\"data row1 col1\" >0.033322</td>\n",
              "    </tr>\n",
              "    <tr>\n",
              "      <th id=\"T_127a4_level0_row2\" class=\"row_heading level0 row2\" >2</th>\n",
              "      <td id=\"T_127a4_row2_col0\" class=\"data row2 col0\" >TfidfVectorizer (Unigrama)</td>\n",
              "      <td id=\"T_127a4_row2_col1\" class=\"data row2 col1\" >0.018051</td>\n",
              "    </tr>\n",
              "  </tbody>\n",
              "</table>\n"
            ],
            "text/plain": [
              "<pandas.io.formats.style.Styler at 0x20ca004c650>"
            ]
          },
          "execution_count": 31,
          "metadata": {},
          "output_type": "execute_result"
        }
      ],
      "source": [
        "# Celda 5 Código para graficos y tablas comparativas\n",
        "\n",
        "puntos = [\n",
        "    'Punto 1 (Count Unigrama)',\n",
        "    'Punto 2 (Count Trigrama)',\n",
        "    'Punto 4 (Tfidf Unigrama)'\n",
        "]\n",
        "mse_valores = [mse, mse_trigram, mse_tfidf]\n",
        "\n",
        "# Crear la gráfica de barras\n",
        "plt.figure(figsize=(10, 6))\n",
        "plt.bar(puntos, mse_valores, color=['skyblue', 'lightcoral', 'lightgreen'])\n",
        "plt.title('Comparativo de MSE - Ridge con diferentes técnicas de tokenización', fontsize=14)\n",
        "plt.ylabel('MSE', fontsize=12)\n",
        "plt.xlabel('Método de Vectorización', fontsize=12)\n",
        "plt.ylim(0, 0.05)\n",
        "plt.grid(axis='y', linestyle='--', alpha=0.7)\n",
        "\n",
        "for i, v in enumerate(mse_valores):\n",
        "    plt.text(i, v + 0.001, f\"{v:.5f}\", ha='center', va='bottom', fontsize=10)\n",
        "\n",
        "plt.tight_layout()\n",
        "plt.show()\n",
        "\n",
        "# Crear tabla resumen de resultados\n",
        "resultados = {\n",
        "    \"Técnica de Tokenización\": [\n",
        "        \"CountVectorizer (Unigrama)\",\n",
        "        \"CountVectorizer (Trigrama)\",\n",
        "        \"TfidfVectorizer (Unigrama)\"\n",
        "    ],\n",
        "    \"MSE Obtenido\": mse_valores\n",
        "}\n",
        "\n",
        "df_resultados = pd.DataFrame(resultados)\n",
        "\n",
        "# Mostrar la tabla de resultados\n",
        "df_resultados.style.set_properties(**{'text-align': 'center'}).set_table_styles(\n",
        "    [{'selector': 'th', 'props': [('text-align', 'center')]}]\n",
        ")"
      ]
    },
    {
      "cell_type": "markdown",
      "metadata": {
        "ExecuteTime": {
          "end_time": "2025-04-27T12:34:48.231853Z",
          "start_time": "2025-04-27T04:00:24.758282Z"
        },
        "id": "dayq-n0MRhcG"
      },
      "source": [
        "## Punto 5.1 - Comparación y análisis de resultados ##"
      ]
    },
    {
      "cell_type": "markdown",
      "metadata": {
        "id": "2VKhCore2ZAd"
      },
      "source": [
        "La tokenización básica con CountVectorizer usando palabras individuales logró un desempeño intermedio con un MSE de (0.0261), muestra que al tratar todas las palabras con igual peso no aprovechó completamente la información del texto.\n",
        "\n",
        "La tokenización con CountVectorizer y trigramas aumentó la dimensionalidad, generando datos muy dispersos. Esto perjudicó al modelo, resultando en el peor MSE de (0.033).\n",
        "\n",
        "Mientras que TfidfVectorizer, que pondera las palabras según su relevancia en el corpus, permitió al modelo focalizarse en los términos significativamente más discriminativos. Esto se reflejó en un mejor MSE de (0.01805), siendo entonces el mejor resultado obtenido.\n",
        "\n",
        "En conclusión, la forma en que se realiza el preprocesamiento del texto tiene un impacto directo en el desempeño del modelo. Representaciones más avanzadas como TF-IDF, que capturan la importancia real de las palabras, permiten mejorar considerablemente la calidad de la predicción."
      ]
    },
    {
      "cell_type": "markdown",
      "metadata": {
        "id": "CAz0AeK72ZAd"
      },
      "source": [
        "## Descripción de las Técnicas de Tokenización Aplicadas ##"
      ]
    },
    {
      "cell_type": "markdown",
      "metadata": {
        "id": "4e0tzrSH2ZAd"
      },
      "source": [
        "**CountVectorizer con unigramas** transforma los comentarios en una lista de palabras, contando cuántas veces aparece cada una. No distingue entre palabras relevantes y comunes, dándole a todas el mismo peso.\n",
        "\n",
        "**CountVectorizer con trigramas** construye vectores basados en secuencias de tres palabras consecutivas. Aunque permite capturar fragmentos de contexto, incrementa la dimensionalidad, haciendo la representación más dispersa y provocando dificultades para que el modelo generalice adecuadamente.\n",
        "\n",
        "**TfidfVectorizer con unigramas** pondera cada palabra según su importancia relativa en el corpus, reduciendo el peso de palabras comunes y aumentado el de palabras específicas, logrando mejorar la capacidad del modelo para identificar patrones más representativos."
      ]
    }
  ],
  "metadata": {
    "colab": {
      "provenance": [],
      "toc_visible": true
    },
    "kernelspec": {
      "display_name": "Python 3 (ipykernel)",
      "language": "python",
      "name": "python3"
    },
    "language_info": {
      "codemirror_mode": {
        "name": "ipython",
        "version": 3
      },
      "file_extension": ".py",
      "mimetype": "text/x-python",
      "name": "python",
      "nbconvert_exporter": "python",
      "pygments_lexer": "ipython3",
      "version": "3.11.5"
    },
    "name": "_merged"
  },
  "nbformat": 4,
  "nbformat_minor": 0
}